{
  "cells": [
    {
      "cell_type": "code",
      "execution_count": null,
      "metadata": {
        "id": "_OvGYi491pTj"
      },
      "outputs": [],
      "source": [
        "!pip install dm-clrs"
      ]
    },
    {
      "cell_type": "code",
      "execution_count": 2,
      "metadata": {
        "colab": {
          "base_uri": "https://localhost:8080/"
        },
        "id": "2MzxRB1X7hRs",
        "outputId": "0fcfedd7-2b7e-4b9d-9423-cf5c4005be96"
      },
      "outputs": [],
      "source": [
        "import clrs\n",
        "import numpy as np\n",
        "import jax\n",
        "import jax.numpy as jnp\n",
        "\n",
        "import pprint\n",
        "\n",
        "rng = np.random.RandomState(1234)\n",
        "rng_key = jax.random.PRNGKey(rng.randint(100))"
      ]
    },
    {
      "cell_type": "code",
      "execution_count": 65,
      "metadata": {},
      "outputs": [],
      "source": [
        "def custom_dot_exp_log(inputs, w, basis_exp=jnp.exp(1), basis_log=jnp.exp(1)):\n",
        "    max_val = jnp.maximum(jnp.max(inputs), jnp.max(w))\n",
        "    out = max_val + jnp.log(jnp.dot(jnp.power(inputs - max_val,basis_exp), jnp.power(w - max_val, basis_exp)))\n",
        "    out = out / jnp.log(basis_log)\n"
      ]
    },
    {
      "cell_type": "code",
      "execution_count": 66,
      "metadata": {},
      "outputs": [
        {
          "name": "stdout",
          "output_type": "stream",
          "text": [
            "10.127223\n",
            "None\n"
          ]
        }
      ],
      "source": [
        "inputs = jnp.array([1,6,7])\n",
        "w = jnp.array([1,2,3])\n",
        "print(jnp.log(jnp.dot(jnp.exp(inputs), jnp.exp(w))))\n",
        "print(custom_dot_exp_log(inputs,w))"
      ]
    },
    {
      "cell_type": "code",
      "execution_count": 3,
      "metadata": {
        "colab": {
          "base_uri": "https://localhost:8080/"
        },
        "id": "OEo_Gj1j3Z6M",
        "outputId": "d455c48e-5a03-49d3-f7fb-255cfeb645f2"
      },
      "outputs": [
        {
          "name": "stdout",
          "output_type": "stream",
          "text": [
            "{'A': ('input', 'edge', 'scalar'),\n",
            " 'adj': ('input', 'edge', 'mask'),\n",
            " 'd': ('hint', 'node', 'scalar'),\n",
            " 'msk': ('hint', 'node', 'mask'),\n",
            " 'pi': ('output', 'node', 'pointer'),\n",
            " 'pi_h': ('hint', 'node', 'pointer'),\n",
            " 'pos': ('input', 'node', 'scalar'),\n",
            " 's': ('input', 'node', 'mask_one')}\n"
          ]
        }
      ],
      "source": [
        "train_sampler, spec = clrs.build_sampler(\n",
        "    name='bellman_ford',\n",
        "    num_samples=100,\n",
        "    length=16)\n",
        "\n",
        "test_sampler, spec = clrs.build_sampler(\n",
        "    name='bellman_ford',\n",
        "    num_samples=100,\n",
        "    length=64)\n",
        "\n",
        "pprint.pprint(spec)\n",
        "\n",
        "def _iterate_sampler(sampler, batch_size):\n",
        "  while True:\n",
        "    yield sampler.next(batch_size)\n",
        "\n",
        "train_sampler = _iterate_sampler(train_sampler, batch_size=32)\n",
        "test_sampler = _iterate_sampler(test_sampler, batch_size=100)"
      ]
    },
    {
      "cell_type": "code",
      "execution_count": 11,
      "metadata": {
        "id": "L-p0jOCq5sPV"
      },
      "outputs": [],
      "source": [
        "processor_factory = clrs.get_processor_factory('mpnn', True, 0)\n",
        "model_params = dict(\n",
        "    processor_factory=processor_factory,\n",
        "    hidden_dim=32,\n",
        "    encode_hints=True,\n",
        "    decode_hints=True,\n",
        "    #decode_diffs=False,\n",
        "    #hint_teacher_forcing_noise=1.0,\n",
        "    use_lstm=False,\n",
        "    learning_rate=0.001,\n",
        "    checkpoint_path='/tmp/checkpt',\n",
        "    freeze_processor=False,\n",
        "    dropout_prob=0.0,\n",
        ")\n",
        "\n",
        "dummy_trajectory = next(train_sampler)\n",
        "\n",
        "model = clrs.models.BaselineModel(\n",
        "    spec=spec,\n",
        "    dummy_trajectory=dummy_trajectory,\n",
        "    **model_params\n",
        ")\n",
        "\n",
        "model.init(dummy_trajectory.features, 1234)"
      ]
    },
    {
      "cell_type": "code",
      "execution_count": 12,
      "metadata": {
        "colab": {
          "base_uri": "https://localhost:8080/"
        },
        "id": "3pSKQ2wi62Br",
        "outputId": "c3e7ce85-5b48-4acf-bd74-bceee7a2de1d"
      },
      "outputs": [
        {
          "name": "stdout",
          "output_type": "stream",
          "text": [
            "step = 0 | loss = 7.864797115325928 | val_acc = 0.28125 | test_acc = 0.07874999940395355\n",
            "step = 10 | loss = 4.704117298126221 | val_acc = 0.41015625 | test_acc = 0.19765624403953552\n",
            "step = 20 | loss = 3.7001068592071533 | val_acc = 0.513671875 | test_acc = 0.3335937559604645\n",
            "step = 30 | loss = 3.19502854347229 | val_acc = 0.607421875 | test_acc = 0.3785937428474426\n",
            "step = 40 | loss = 2.68827748298645 | val_acc = 0.669921875 | test_acc = 0.40687498450279236\n",
            "step = 50 | loss = 2.3591408729553223 | val_acc = 0.734375 | test_acc = 0.43031248450279236\n",
            "step = 60 | loss = 2.2472643852233887 | val_acc = 0.755859375 | test_acc = 0.41203123331069946\n",
            "step = 70 | loss = 1.8525781631469727 | val_acc = 0.78515625 | test_acc = 0.4596875011920929\n",
            "step = 80 | loss = 1.6861634254455566 | val_acc = 0.837890625 | test_acc = 0.4923437535762787\n",
            "step = 90 | loss = 1.5138217210769653 | val_acc = 0.8359375 | test_acc = 0.5285937190055847\n",
            "step = 100 | loss = 1.3650599718093872 | val_acc = 0.830078125 | test_acc = 0.5132812261581421\n"
          ]
        }
      ],
      "source": [
        "step = 0\n",
        "\n",
        "while step <= 100:\n",
        "  feedback, test_feedback = next(train_sampler), next(test_sampler)\n",
        "  rng_key, new_rng_key = jax.random.split(rng_key)\n",
        "  cur_loss = model.feedback(rng_key, feedback)\n",
        "  rng_key = new_rng_key\n",
        "  if step % 10 == 0:\n",
        "    predictions_val, _ = model.predict(rng_key, feedback.features)\n",
        "    out_val = clrs.evaluate(feedback.outputs, predictions_val)\n",
        "    predictions, _ = model.predict(rng_key, test_feedback.features)\n",
        "    out = clrs.evaluate(test_feedback.outputs, predictions)\n",
        "    print(f'step = {step} | loss = {cur_loss} | val_acc = {out_val[\"score\"]} | test_acc = {out[\"score\"]}')\n",
        "  step += 1"
      ]
    },
    {
      "cell_type": "code",
      "execution_count": null,
      "metadata": {},
      "outputs": [],
      "source": [
        "step = 100 | loss = 2.5001742839813232 | val_acc = 0.623046875 | test_acc = 0.38593748211860657"
      ]
    }
  ],
  "metadata": {
    "colab": {
      "provenance": []
    },
    "kernelspec": {
      "display_name": "Python 3",
      "name": "python3"
    },
    "language_info": {
      "codemirror_mode": {
        "name": "ipython",
        "version": 3
      },
      "file_extension": ".py",
      "mimetype": "text/x-python",
      "name": "python",
      "nbconvert_exporter": "python",
      "pygments_lexer": "ipython3",
      "version": "3.11.7"
    }
  },
  "nbformat": 4,
  "nbformat_minor": 0
}
