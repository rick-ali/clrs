{
  "nbformat": 4,
  "nbformat_minor": 0,
  "metadata": {
    "colab": {
      "provenance": []
    },
    "kernelspec": {
      "name": "python3",
      "display_name": "Python 3"
    },
    "language_info": {
      "name": "python"
    }
  },
  "cells": [
    {
      "cell_type": "code",
      "execution_count": null,
      "metadata": {
        "id": "_OvGYi491pTj"
      },
      "outputs": [],
      "source": [
        "!pip install dm-clrs"
      ]
    },
    {
      "cell_type": "code",
      "source": [
        "import clrs\n",
        "import numpy as np\n",
        "import jax\n",
        "import jax.numpy as jnp\n",
        "\n",
        "import pprint\n",
        "\n",
        "rng = np.random.RandomState(1234)\n",
        "rng_key = jax.random.PRNGKey(rng.randint(2**32))"
      ],
      "metadata": {
        "colab": {
          "base_uri": "https://localhost:8080/"
        },
        "id": "2MzxRB1X7hRs",
        "outputId": "0fcfedd7-2b7e-4b9d-9423-cf5c4005be96"
      },
      "execution_count": null,
      "outputs": [
        {
          "output_type": "stream",
          "name": "stderr",
          "text": [
            "WARNING:jax._src.lib.xla_bridge:No GPU/TPU found, falling back to CPU. (Set TF_CPP_MIN_LOG_LEVEL=0 and rerun for more info.)\n"
          ]
        }
      ]
    },
    {
      "cell_type": "code",
      "source": [
        "train_sampler, spec = clrs.build_sampler(\n",
        "    name='bellman_ford',\n",
        "    num_samples=100,\n",
        "    length=16)\n",
        "\n",
        "test_sampler, spec = clrs.build_sampler(\n",
        "    name='bellman_ford',\n",
        "    num_samples=100,\n",
        "    length=64)\n",
        "\n",
        "pprint.pprint(spec)\n",
        "\n",
        "def _iterate_sampler(sampler, batch_size):\n",
        "  while True:\n",
        "    yield sampler.next(batch_size)\n",
        "\n",
        "train_sampler = _iterate_sampler(train_sampler, batch_size=32)\n",
        "test_sampler = _iterate_sampler(test_sampler, batch_size=100)"
      ],
      "metadata": {
        "colab": {
          "base_uri": "https://localhost:8080/"
        },
        "id": "OEo_Gj1j3Z6M",
        "outputId": "d455c48e-5a03-49d3-f7fb-255cfeb645f2"
      },
      "execution_count": null,
      "outputs": [
        {
          "output_type": "stream",
          "name": "stdout",
          "text": [
            "{'A': ('input', 'edge', 'scalar'),\n",
            " 'adj': ('input', 'edge', 'mask'),\n",
            " 'd': ('hint', 'node', 'scalar'),\n",
            " 'msk': ('hint', 'node', 'mask'),\n",
            " 'pi': ('output', 'node', 'pointer'),\n",
            " 'pi_h': ('hint', 'node', 'pointer'),\n",
            " 'pos': ('input', 'node', 'scalar'),\n",
            " 's': ('input', 'node', 'mask_one')}\n"
          ]
        }
      ]
    },
    {
      "cell_type": "code",
      "source": [
        "processor_factory = clrs.get_processor_factory('mpnn', use_ln=True)\n",
        "model_params = dict(\n",
        "    processor_factory=processor_factory,\n",
        "    hidden_dim=32,\n",
        "    encode_hints=True,\n",
        "    decode_hints=True,\n",
        "    decode_diffs=False,\n",
        "    hint_teacher_forcing_noise=1.0,\n",
        "    use_lstm=False,\n",
        "    learning_rate=0.001,\n",
        "    checkpoint_path='/tmp/checkpt',\n",
        "    freeze_processor=False,\n",
        "    dropout_prob=0.0,\n",
        ")\n",
        "\n",
        "dummy_trajectory = next(train_sampler)\n",
        "\n",
        "model = clrs.models.BaselineModel(\n",
        "    spec=spec,\n",
        "    dummy_trajectory=dummy_trajectory,\n",
        "    **model_params\n",
        ")\n",
        "\n",
        "model.init(dummy_trajectory.features, 1234)"
      ],
      "metadata": {
        "id": "L-p0jOCq5sPV"
      },
      "execution_count": null,
      "outputs": []
    },
    {
      "cell_type": "code",
      "source": [
        "step = 0\n",
        "\n",
        "while step <= 100:\n",
        "  feedback, test_feedback = next(train_sampler), next(test_sampler)\n",
        "  rng_key, new_rng_key = jax.random.split(rng_key)\n",
        "  cur_loss = model.feedback(rng_key, feedback)\n",
        "  rng_key = new_rng_key\n",
        "  if step % 10 == 0:\n",
        "    predictions_val, _ = model.predict(rng_key, feedback.features)\n",
        "    out_val = clrs.evaluate(feedback.outputs, predictions_val)\n",
        "    predictions, _ = model.predict(rng_key, test_feedback.features)\n",
        "    out = clrs.evaluate(test_feedback.outputs, predictions)\n",
        "    print(f'step = {step} | loss = {cur_loss} | val_acc = {out_val[\"score\"]} | test_acc = {out[\"score\"]}')\n",
        "  step += 1"
      ],
      "metadata": {
        "colab": {
          "base_uri": "https://localhost:8080/"
        },
        "id": "3pSKQ2wi62Br",
        "outputId": "c3e7ce85-5b48-4acf-bd74-bceee7a2de1d"
      },
      "execution_count": null,
      "outputs": [
        {
          "output_type": "stream",
          "name": "stderr",
          "text": [
            "/usr/local/lib/python3.8/dist-packages/clrs/_src/baselines.py:496: FutureWarning: jax.tree_flatten is deprecated, and will be removed in a future release. Use jax.tree_util.tree_flatten instead.\n",
            "  flat_grads, treedef = jax.tree_flatten(masked_grads)\n"
          ]
        },
        {
          "output_type": "stream",
          "name": "stdout",
          "text": [
            "step = 0 | loss = 6.8649001121521 | val_acc = 0.25390625 | test_acc = 0.1237499937415123\n",
            "step = 10 | loss = 3.8234963417053223 | val_acc = 0.466796875 | test_acc = 0.1704687476158142\n",
            "step = 20 | loss = 3.022090435028076 | val_acc = 0.609375 | test_acc = 0.3075000047683716\n",
            "step = 30 | loss = 2.4777908325195312 | val_acc = 0.732421875 | test_acc = 0.3806249797344208\n",
            "step = 40 | loss = 2.105839729309082 | val_acc = 0.78125 | test_acc = 0.4154687523841858\n",
            "step = 50 | loss = 1.7853212356567383 | val_acc = 0.7890625 | test_acc = 0.4312499761581421\n",
            "step = 60 | loss = 1.6517027616500854 | val_acc = 0.79296875 | test_acc = 0.5023437142372131\n",
            "step = 70 | loss = 1.4947378635406494 | val_acc = 0.849609375 | test_acc = 0.5318750143051147\n",
            "step = 80 | loss = 1.404116153717041 | val_acc = 0.849609375 | test_acc = 0.532031238079071\n",
            "step = 90 | loss = 1.276430368423462 | val_acc = 0.85546875 | test_acc = 0.5393750071525574\n",
            "step = 100 | loss = 1.1954240798950195 | val_acc = 0.869140625 | test_acc = 0.5525000095367432\n"
          ]
        }
      ]
    }
  ]
}